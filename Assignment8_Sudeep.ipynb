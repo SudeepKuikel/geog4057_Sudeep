{
 "cells": [
  {
   "cell_type": "code",
   "execution_count": 2,
   "metadata": {},
   "outputs": [
    {
     "name": "stdout",
     "output_type": "stream",
     "text": [
      "S:\\Sudeep\\OneDrive - Louisiana State University\\Study_Materials\\Second Semester\\GEOG4057\\Assignments\\Assignment8\\ex8\\Austin_Data.gdb\n"
     ]
    }
   ],
   "source": [
    "import arcpy\n",
    "import os\n",
    "pathname = r\"S:\\Sudeep\\OneDrive - Louisiana State University\\Study_Materials\\Second Semester\\GEOG4057\\Assignments\\Assignment8\\ex8\"\n",
    "aprx = arcpy.mp.ArcGISProject(os.path.join(pathname,\"Austin.aprx\"))\n",
    "print(aprx.defaultGeodatabase)"
   ]
  },
  {
   "cell_type": "code",
   "execution_count": 4,
   "metadata": {},
   "outputs": [],
   "source": [
    "aprx.saveACopy(os.path.join(\"S:/Sudeep/OneDrive - Louisiana State University/Study_Materials/Second Semester/GEOG4057/Assignments/Assignment8/ex8\",'Austin_Copy.aprx'))\n"
   ]
  },
  {
   "cell_type": "code",
   "execution_count": 1,
   "metadata": {},
   "outputs": [
    {
     "name": "stdout",
     "output_type": "stream",
     "text": [
      "Downtown\n",
      "Foot_US\n",
      "Region\n",
      "Foot_US\n"
     ]
    }
   ],
   "source": [
    "aprx = arcpy.mp.ArcGISProject('CURRENT')\n",
    "maps = aprx.listMaps()\n",
    "for m in maps:\n",
    "    print(m.name)\n",
    "    print(m.mapUnits)\n",
    "del aprx"
   ]
  },
  {
   "cell_type": "markdown",
   "metadata": {},
   "source": [
    "In this code snippet, the del aprx statement at the end deletes the variable aprx, which is a reference to the ArcGIS Project (ArcGISProject) object. This does not delete the actual project file on disk,whereas it simply removes the reference to the \"aprx\" object from memory in our Python environment. "
   ]
  },
  {
   "cell_type": "code",
   "execution_count": 1,
   "metadata": {},
   "outputs": [],
   "source": [
    "aprx = arcpy.mp.ArcGISProject('CURRENT')\n",
    "m = aprx.listMaps(\"Region\")[0]\n",
    "m.name = \"County\"\n",
    "del aprx"
   ]
  },
  {
   "cell_type": "code",
   "execution_count": 2,
   "metadata": {},
   "outputs": [
    {
     "name": "stdout",
     "output_type": "stream",
     "text": [
      "Map: Downtown\n",
      "trees\n",
      "parks\n",
      "base\n",
      "Topographic\n",
      "Map: County\n",
      "facilities\n",
      "hospitals\n",
      "parks\n",
      "Topographic\n"
     ]
    }
   ],
   "source": [
    "aprx = arcpy.mp.ArcGISProject('CURRENT')\n",
    "maps = aprx.listMaps()\n",
    "for m in maps:\n",
    "    print(\"Map: \" + m.name)\n",
    "    lyrs = m.listLayers()\n",
    "    for lyr in lyrs:\n",
    "        print(lyr.name)\n",
    "del aprx"
   ]
  },
  {
   "cell_type": "code",
   "execution_count": 3,
   "metadata": {},
   "outputs": [
    {
     "name": "stdout",
     "output_type": "stream",
     "text": [
      "trees is a feature layer\n",
      "parks is a feature layer\n",
      "base is a feature layer\n",
      "Topographic is a basemap layer\n"
     ]
    }
   ],
   "source": [
    "aprx = arcpy.mp.ArcGISProject('CURRENT')\n",
    "m = aprx.listMaps(\"Downtown\")[0]\n",
    "lyrs = m.listLayers()\n",
    "for lyr in lyrs:\n",
    "    if lyr.isBasemapLayer:\n",
    "        print(lyr.name + \" is a basemap layer\")\n",
    "    if lyr.isFeatureLayer:\n",
    "        print(lyr.name + \" is a feature layer\")\n",
    "del aprx\n"
   ]
  },
  {
   "cell_type": "code",
   "execution_count": 4,
   "metadata": {},
   "outputs": [],
   "source": [
    "aprx = arcpy.mp.ArcGISProject('CURRENT')\n",
    "m = aprx.listMaps(\"Downtown\")[0]\n",
    "m.addBasemap(\"Light Gray Canvas\")"
   ]
  },
  {
   "cell_type": "code",
   "execution_count": 5,
   "metadata": {},
   "outputs": [],
   "source": [
    "aprx = arcpy.mp.ArcGISProject(\"CURRENT\")\n",
    "m = aprx.listMaps(\"Downtown\")[0]\n",
    "lyr = m.listLayers(\"parks\")[0]\n",
    "sym = lyr.symbology\n",
    "green = {\"RGB\": [100, 175, 0, 100]}\n",
    "if lyr.isFeatureLayer and hasattr(sym, \"renderer\"):\n",
    "    sym.renderer.symbol.color = green\n",
    "    lyr.symbology = sym"
   ]
  },
  {
   "cell_type": "markdown",
   "metadata": {},
   "source": [
    "The variable green in above code is a dictionary with a key \"RGB\" and a value that is a list of numbers. This list represents the RGBA (Red, Green, Blue, Alpha) values for color. Each of the first three values specifies the intensity of the red, green, and blue channels (from 0 to 255), and the last number represents the opacity (alpha), where 0 is fully transparent, and 100 is fully opaque.\n",
    "To change this to a brown color, we can use an RGB value such as [165, 42, 42, 100], which represents a common shade of brown"
   ]
  },
  {
   "cell_type": "code",
   "execution_count": 8,
   "metadata": {},
   "outputs": [],
   "source": [
    "aprx = arcpy.mp.ArcGISProject(\"CURRENT\")\n",
    "m = aprx.listMaps(\"Downtown\")[0]\n",
    "lyr = m.listLayers(\"parks\")[0]\n",
    "sym = lyr.symbology\n",
    "brown = {\"RGB\": [165, 42, 42, 100]}\n",
    "if lyr.isFeatureLayer and hasattr(sym, \"renderer\"):\n",
    "    sym.renderer.symbol.color = brown\n",
    "    lyr.symbology = sym\n"
   ]
  },
  {
   "cell_type": "code",
   "execution_count": 11,
   "metadata": {},
   "outputs": [],
   "source": [
    "m = aprx.listMaps(\"Downtown\")[0]\n",
    "\n",
    "lyt = aprx.createLayout( 11,8.5, 'INCH', 'New Layout with Rectangles')\n",
    "\n",
    "def MakeRec_LL(llx, lly, w, h):\n",
    "    xyRecList = [[llx, lly], [llx, lly+h], [llx+w,lly+h], [llx+w,lly], [llx,lly]]\n",
    "    array = arcpy.Array([arcpy.Point(*coords) for coords in xyRecList])\n",
    "    rec = arcpy.Polygon(array)\n",
    "    return rec\n",
    "\n",
    "mf = lyt.createMapFrame(MakeRec_LL(0.5,0.5,10,7.5), m, \"New Map Frame\")"
   ]
  },
  {
   "cell_type": "markdown",
   "metadata": {},
   "source": [
    "The layout size is 11 inches wide by 8.5 inches tall. This is the standard size for letter paper in landscape orientation.\n",
    "The map frame is 10 inches wide and 7.5 inches tall with lower left corner starting at 0.5,0.5inches.\n",
    "Creating layouts and map frames with Python has several advantages above those created manually. Some of them are: Automation and Efficiency, Precision, Batch Processing, Dynamic Updates and Reproducibility."
   ]
  },
  {
   "cell_type": "code",
   "execution_count": 14,
   "metadata": {},
   "outputs": [],
   "source": [
    "#Create a north arrow\n",
    "naStyle = aprx.listStyleItems('ArcGIS 2D', 'North_Arrow', 'Compass North 1')[0]\n",
    "na = lyt.createMapSurroundElement(arcpy.Point(9.5,7.5), 'North_Arrow', mf,\n",
    "                                      naStyle, \"Compass North Arrow\")\n",
    "na.elementWidth = 0.5  \n",
    "\n",
    "#Create a scale bar\n",
    "sbName = 'Double Alternating Scale Bar 1 Metric'\n",
    "sbStyle = aprx.listStyleItems('ArcGIS 2D', 'Scale_bar', sbName)[0]\n",
    "sbEnv = MakeRec_LL(5.5, 0.1, 4, 0.5)\n",
    "sb = lyt.createMapSurroundElement(sbEnv, 'Scale_bar', mf, sbStyle, 'New Scale Bar')"
   ]
  },
  {
   "cell_type": "code",
   "execution_count": 15,
   "metadata": {},
   "outputs": [],
   "source": [
    "legSi = aprx.listStyleItems('ArcGIS 2D', 'LEGEND', 'Legend 3' )[0]\n",
    "leg = lyt.createMapSurroundElement(arcpy.Point(1,7), 'LEGEND', mf, legSi, 'New Legend Element')\n",
    "leg.elementWidth = 3\n",
    "leg.elementHeight = 3\n",
    "leg.fittingStrategy = 'AdjustFontSize'\n",
    "leg.columnCount = 1\n",
    "leg.title = 'Downtown'"
   ]
  },
  {
   "cell_type": "code",
   "execution_count": 17,
   "metadata": {},
   "outputs": [
    {
     "data": {
      "text/plain": [
       "'S:/Sudeep/OneDrive - Louisiana State University/Study_Materials/Second Semester/GEOG4057/Assignments/Assignment8\\\\downtown.pdf'"
      ]
     },
     "execution_count": 17,
     "metadata": {},
     "output_type": "execute_result"
    }
   ],
   "source": [
    "import os\n",
    "lyt.exportToPDF(os.path.join(\"S:/Sudeep/OneDrive - Louisiana State University/Study_Materials/Second Semester/GEOG4057/Assignments/Assignment8\", 'downtown.pdf'))"
   ]
  },
  {
   "cell_type": "code",
   "execution_count": null,
   "metadata": {},
   "outputs": [],
   "source": []
  }
 ],
 "metadata": {
  "kernelspec": {
   "display_name": "ArcGISPro",
   "language": "Python",
   "name": "python3"
  },
  "language_info": {
   "file_extension": ".py",
   "name": "python",
   "version": "3"
  }
 },
 "nbformat": 4,
 "nbformat_minor": 2
}
